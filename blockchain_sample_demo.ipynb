{
  "nbformat": 4,
  "nbformat_minor": 0,
  "metadata": {
    "colab": {
      "name": "Untitled1.ipynb",
      "provenance": [],
      "collapsed_sections": [],
      "include_colab_link": true
    },
    "kernelspec": {
      "name": "python3",
      "display_name": "Python 3"
    }
  },
  "cells": [
    {
      "cell_type": "markdown",
      "metadata": {
        "id": "view-in-github",
        "colab_type": "text"
      },
      "source": [
        "<a href=\"https://colab.research.google.com/github/togakyo/fashion-mnist/blob/master/blockchain_sample_demo.ipynb\" target=\"_parent\"><img src=\"https://colab.research.google.com/assets/colab-badge.svg\" alt=\"Open In Colab\"/></a>"
      ]
    },
    {
      "cell_type": "code",
      "metadata": {
        "id": "Q-d4lJWucUgS",
        "colab_type": "code",
        "colab": {}
      },
      "source": [
        "from dataclasses import dataclass\n"
      ],
      "execution_count": 0,
      "outputs": []
    },
    {
      "cell_type": "code",
      "metadata": {
        "id": "XetYiX2BcYrD",
        "colab_type": "code",
        "colab": {}
      },
      "source": [
        "@dataclass\n",
        "class Transaction:\n",
        "    sender_address: int\n",
        "    receiver_address: int\n",
        "    value: float"
      ],
      "execution_count": 0,
      "outputs": []
    },
    {
      "cell_type": "code",
      "metadata": {
        "id": "uGjg2cRVcbmF",
        "colab_type": "code",
        "colab": {}
      },
      "source": [
        "@dataclass\n",
        "class Wallet:\n",
        "    address: int\n",
        "    def send(self, receiver_address, value):\n",
        "        return Transaction(self.address, receiver_address, value)"
      ],
      "execution_count": 0,
      "outputs": []
    },
    {
      "cell_type": "code",
      "metadata": {
        "id": "XYxAbgD4cf56",
        "colab_type": "code",
        "colab": {}
      },
      "source": [
        "Ledger=list"
      ],
      "execution_count": 0,
      "outputs": []
    },
    {
      "cell_type": "code",
      "metadata": {
        "id": "l6-io6MDciew",
        "colab_type": "code",
        "colab": {}
      },
      "source": [
        "alice=Wallet(1) # create Alice's wallet\n",
        "bob=Wallet(2)   # create Bob's wallet\n",
        "ledger=Ledger() # create Bank's ledger"
      ],
      "execution_count": 0,
      "outputs": []
    },
    {
      "cell_type": "code",
      "metadata": {
        "id": "htj4obZfckqw",
        "colab_type": "code",
        "colab": {}
      },
      "source": [
        "transaction=alice.send(bob.address, 5) # Alice send `5` to Bob\n",
        "ledger.append(transaction)"
      ],
      "execution_count": 0,
      "outputs": []
    },
    {
      "cell_type": "code",
      "metadata": {
        "id": "B0K6dRFhcnC3",
        "colab_type": "code",
        "colab": {}
      },
      "source": [
        "import json\n",
        "import dataclasses as dc"
      ],
      "execution_count": 0,
      "outputs": []
    },
    {
      "cell_type": "code",
      "metadata": {
        "id": "8I2bJhigcpha",
        "colab_type": "code",
        "colab": {}
      },
      "source": [
        "@dataclass\n",
        "class Transaction:\n",
        "    sender_address: str\n",
        "    receiver_address: str\n",
        "    value: float\n",
        "    sign: str = None\n",
        "        \n",
        "    def str_data(self) -> str:\n",
        "        # return the str of data without `sign`\n",
        "        d=dc.asdict(self)\n",
        "        del d[\"sign\"]\n",
        "        return json.dumps(d)\n",
        "    \n",
        "    def json_dumps(self) -> str:\n",
        "        return json.dumps(dc.asdict(self))\n",
        "    @classmethod\n",
        "    def json_loads(cls, string) -> Transaction:\n",
        "        return cls(**json.loads(string))"
      ],
      "execution_count": 0,
      "outputs": []
    },
    {
      "cell_type": "code",
      "metadata": {
        "id": "gSXN_5yacslU",
        "colab_type": "code",
        "colab": {
          "base_uri": "https://localhost:8080/",
          "height": 170
        },
        "outputId": "143ebb30-556f-47df-941e-2504d2826080"
      },
      "source": [
        "pip install Crypto\n"
      ],
      "execution_count": 15,
      "outputs": [
        {
          "output_type": "stream",
          "text": [
            "Requirement already satisfied: Crypto in /usr/local/lib/python3.6/dist-packages (1.4.1)\n",
            "Requirement already satisfied: shellescape in /usr/local/lib/python3.6/dist-packages (from Crypto) (3.4.1)\n",
            "Requirement already satisfied: Naked in /usr/local/lib/python3.6/dist-packages (from Crypto) (0.1.31)\n",
            "Requirement already satisfied: requests in /usr/local/lib/python3.6/dist-packages (from Naked->Crypto) (2.21.0)\n",
            "Requirement already satisfied: pyyaml in /usr/local/lib/python3.6/dist-packages (from Naked->Crypto) (3.13)\n",
            "Requirement already satisfied: chardet<3.1.0,>=3.0.2 in /usr/local/lib/python3.6/dist-packages (from requests->Naked->Crypto) (3.0.4)\n",
            "Requirement already satisfied: certifi>=2017.4.17 in /usr/local/lib/python3.6/dist-packages (from requests->Naked->Crypto) (2019.9.11)\n",
            "Requirement already satisfied: idna<2.9,>=2.5 in /usr/local/lib/python3.6/dist-packages (from requests->Naked->Crypto) (2.8)\n",
            "Requirement already satisfied: urllib3<1.25,>=1.21.1 in /usr/local/lib/python3.6/dist-packages (from requests->Naked->Crypto) (1.24.3)\n"
          ],
          "name": "stdout"
        }
      ]
    },
    {
      "cell_type": "code",
      "metadata": {
        "id": "unKZFC8cdVYN",
        "colab_type": "code",
        "colab": {
          "base_uri": "https://localhost:8080/",
          "height": 187
        },
        "outputId": "312e56b5-1baa-45ea-9350-447b8844bc95"
      },
      "source": [
        "pip install PyCrypto"
      ],
      "execution_count": 16,
      "outputs": [
        {
          "output_type": "stream",
          "text": [
            "Collecting PyCrypto\n",
            "\u001b[?25l  Downloading https://files.pythonhosted.org/packages/60/db/645aa9af249f059cc3a368b118de33889219e0362141e75d4eaf6f80f163/pycrypto-2.6.1.tar.gz (446kB)\n",
            "\r\u001b[K     |▊                               | 10kB 20.3MB/s eta 0:00:01\r\u001b[K     |█▌                              | 20kB 6.8MB/s eta 0:00:01\r\u001b[K     |██▏                             | 30kB 9.4MB/s eta 0:00:01\r\u001b[K     |███                             | 40kB 5.9MB/s eta 0:00:01\r\u001b[K     |███▊                            | 51kB 7.1MB/s eta 0:00:01\r\u001b[K     |████▍                           | 61kB 8.4MB/s eta 0:00:01\r\u001b[K     |█████▏                          | 71kB 9.5MB/s eta 0:00:01\r\u001b[K     |█████▉                          | 81kB 10.5MB/s eta 0:00:01\r\u001b[K     |██████▋                         | 92kB 11.6MB/s eta 0:00:01\r\u001b[K     |███████▍                        | 102kB 9.5MB/s eta 0:00:01\r\u001b[K     |████████                        | 112kB 9.5MB/s eta 0:00:01\r\u001b[K     |████████▉                       | 122kB 9.5MB/s eta 0:00:01\r\u001b[K     |█████████▌                      | 133kB 9.5MB/s eta 0:00:01\r\u001b[K     |██████████▎                     | 143kB 9.5MB/s eta 0:00:01\r\u001b[K     |███████████                     | 153kB 9.5MB/s eta 0:00:01\r\u001b[K     |███████████▊                    | 163kB 9.5MB/s eta 0:00:01\r\u001b[K     |████████████▌                   | 174kB 9.5MB/s eta 0:00:01\r\u001b[K     |█████████████▏                  | 184kB 9.5MB/s eta 0:00:01\r\u001b[K     |██████████████                  | 194kB 9.5MB/s eta 0:00:01\r\u001b[K     |██████████████▊                 | 204kB 9.5MB/s eta 0:00:01\r\u001b[K     |███████████████▍                | 215kB 9.5MB/s eta 0:00:01\r\u001b[K     |████████████████▏               | 225kB 9.5MB/s eta 0:00:01\r\u001b[K     |█████████████████               | 235kB 9.5MB/s eta 0:00:01\r\u001b[K     |█████████████████▋              | 245kB 9.5MB/s eta 0:00:01\r\u001b[K     |██████████████████▍             | 256kB 9.5MB/s eta 0:00:01\r\u001b[K     |███████████████████             | 266kB 9.5MB/s eta 0:00:01\r\u001b[K     |███████████████████▉            | 276kB 9.5MB/s eta 0:00:01\r\u001b[K     |████████████████████▋           | 286kB 9.5MB/s eta 0:00:01\r\u001b[K     |█████████████████████▎          | 296kB 9.5MB/s eta 0:00:01\r\u001b[K     |██████████████████████          | 307kB 9.5MB/s eta 0:00:01\r\u001b[K     |██████████████████████▊         | 317kB 9.5MB/s eta 0:00:01\r\u001b[K     |███████████████████████▌        | 327kB 9.5MB/s eta 0:00:01\r\u001b[K     |████████████████████████▎       | 337kB 9.5MB/s eta 0:00:01\r\u001b[K     |█████████████████████████       | 348kB 9.5MB/s eta 0:00:01\r\u001b[K     |█████████████████████████▊      | 358kB 9.5MB/s eta 0:00:01\r\u001b[K     |██████████████████████████▍     | 368kB 9.5MB/s eta 0:00:01\r\u001b[K     |███████████████████████████▏    | 378kB 9.5MB/s eta 0:00:01\r\u001b[K     |████████████████████████████    | 389kB 9.5MB/s eta 0:00:01\r\u001b[K     |████████████████████████████▋   | 399kB 9.5MB/s eta 0:00:01\r\u001b[K     |█████████████████████████████▍  | 409kB 9.5MB/s eta 0:00:01\r\u001b[K     |██████████████████████████████  | 419kB 9.5MB/s eta 0:00:01\r\u001b[K     |██████████████████████████████▉ | 430kB 9.5MB/s eta 0:00:01\r\u001b[K     |███████████████████████████████▋| 440kB 9.5MB/s eta 0:00:01\r\u001b[K     |████████████████████████████████| 450kB 9.5MB/s \n",
            "\u001b[?25hBuilding wheels for collected packages: PyCrypto\n",
            "  Building wheel for PyCrypto (setup.py) ... \u001b[?25l\u001b[?25hdone\n",
            "  Created wheel for PyCrypto: filename=pycrypto-2.6.1-cp36-cp36m-linux_x86_64.whl size=499957 sha256=dee4d62d0a52a93ce91ad9fd30139c6a7ff61396039f8c560d2b414f4a5b5c74\n",
            "  Stored in directory: /root/.cache/pip/wheels/27/02/5e/77a69d0c16bb63c6ed32f5386f33a2809c94bd5414a2f6c196\n",
            "Successfully built PyCrypto\n",
            "Installing collected packages: PyCrypto\n",
            "Successfully installed PyCrypto-2.6.1\n"
          ],
          "name": "stdout"
        }
      ]
    },
    {
      "cell_type": "code",
      "metadata": {
        "id": "PGQu0M51cvU6",
        "colab_type": "code",
        "colab": {}
      },
      "source": [
        "from Crypto.Signature import PKCS1_v1_5\n",
        "from Crypto.Hash import SHA\n",
        "from Crypto.PublicKey import RSA\n",
        "import binascii"
      ],
      "execution_count": 0,
      "outputs": []
    },
    {
      "cell_type": "code",
      "metadata": {
        "id": "Zhsn4o0TdD0n",
        "colab_type": "code",
        "colab": {}
      },
      "source": [
        "def decode_key(key):\n",
        "    if isinstance(key, str):\n",
        "        return key\n",
        "    return binascii.hexlify(key.exportKey(format='DER')).decode('ascii')\n",
        "def encode_key(key):\n",
        "    if isinstance(key, RSA._RSAobj):\n",
        "        return key\n",
        "    return RSA.importKey(binascii.unhexlify(key))"
      ],
      "execution_count": 0,
      "outputs": []
    },
    {
      "cell_type": "code",
      "metadata": {
        "id": "L3FUTQWTdgCb",
        "colab_type": "code",
        "colab": {}
      },
      "source": [
        "class Wallet:\n",
        "    def __init__(self):\n",
        "        key=RSA.generate(1024)\n",
        "        self.private_key = decode_key(key)\n",
        "        self.address = decode_key(key.publickey())\n",
        "    \n",
        "    def sign_transaction(self, transaction) -> Transaction:\n",
        "        # generate signer from self private key\n",
        "        signer=PKCS1_v1_5.new(encode_key(self.private_key))\n",
        "        # hash the transaction\n",
        "        h=SHA.new(transaction.str_data().encode())\n",
        "        # add signature to the transaction, and return it\n",
        "        return dc.replace(transaction, sign=signer.sign(h).hex())\n",
        "    \n",
        "    def send(self, receiver_address, value) -> Transaction:\n",
        "        \"\"\"Generate transaction, and add signature\"\"\"\n",
        "        transaction=Transaction(self.address, receiver_address, value)\n",
        "        return self.sign_transaction(transaction)"
      ],
      "execution_count": 0,
      "outputs": []
    },
    {
      "cell_type": "code",
      "metadata": {
        "id": "gbJnAxXKdiqO",
        "colab_type": "code",
        "colab": {}
      },
      "source": [
        "def verify_transaction(transaction) -> bool:\n",
        "    if transaction.sign is None:\n",
        "        return False\n",
        "    # hash the transaction\n",
        "    h=SHA.new(transaction.str_data().encode())\n",
        "    # generate verifier with public key\n",
        "    verifier=PKCS1_v1_5.new(encode_key(transaction.sender_address))\n",
        "    # is the signature correct?\n",
        "    return verifier.verify(h, binascii.unhexlify(transaction.sign))"
      ],
      "execution_count": 0,
      "outputs": []
    },
    {
      "cell_type": "code",
      "metadata": {
        "id": "2rZScRgedlEL",
        "colab_type": "code",
        "colab": {}
      },
      "source": [
        "alice=Wallet() # now the address is automatically generated\n",
        "bob=Wallet()\n",
        "ledger=Ledger()"
      ],
      "execution_count": 0,
      "outputs": []
    },
    {
      "cell_type": "code",
      "metadata": {
        "id": "yl-e_EXBdnSD",
        "colab_type": "code",
        "colab": {}
      },
      "source": [
        "transaction=alice.send(bob.address, 5)\n",
        "# Bank append the transaction to its ledger\n",
        "ledger.append(transaction)"
      ],
      "execution_count": 0,
      "outputs": []
    },
    {
      "cell_type": "code",
      "metadata": {
        "id": "m61u1VdZdppA",
        "colab_type": "code",
        "colab": {
          "base_uri": "https://localhost:8080/",
          "height": 34
        },
        "outputId": "92232896-4c63-4880-8519-2bc759ae06d0"
      },
      "source": [
        "verify_transaction(transaction)"
      ],
      "execution_count": 23,
      "outputs": [
        {
          "output_type": "execute_result",
          "data": {
            "text/plain": [
              "True"
            ]
          },
          "metadata": {
            "tags": []
          },
          "execution_count": 23
        }
      ]
    },
    {
      "cell_type": "code",
      "metadata": {
        "id": "AZwMyrHOdrth",
        "colab_type": "code",
        "colab": {
          "base_uri": "https://localhost:8080/",
          "height": 34
        },
        "outputId": "8840a681-d49b-4099-cd0e-acfe7b6fcc97"
      },
      "source": [
        "transaction.value=7\n",
        "verify_transaction(transaction)"
      ],
      "execution_count": 24,
      "outputs": [
        {
          "output_type": "execute_result",
          "data": {
            "text/plain": [
              "False"
            ]
          },
          "metadata": {
            "tags": []
          },
          "execution_count": 24
        }
      ]
    },
    {
      "cell_type": "code",
      "metadata": {
        "id": "eI-tB4pTdunb",
        "colab_type": "code",
        "colab": {}
      },
      "source": [
        "from typing import Tuple, Sequence\n",
        "import hashlib"
      ],
      "execution_count": 0,
      "outputs": []
    },
    {
      "cell_type": "code",
      "metadata": {
        "id": "FtnJp8mddxhZ",
        "colab_type": "code",
        "colab": {}
      },
      "source": [
        "@dataclass\n",
        "class Block:\n",
        "    time: float\n",
        "    transactions: Tuple[Transaction]\n",
        "    previous_hash: str\n",
        "    sign: str = None\n",
        "        \n",
        "    def json_dumps(self) -> str:\n",
        "        dct=dc.asdict(self)\n",
        "        dct[\"transactions\"]=[t.json_dumps() for t in self.transactions]\n",
        "        return json.dumps(dct)\n",
        "    @classmethod\n",
        "    def json_loads(cls, string) -> str:\n",
        "        dct=json.loads(string)\n",
        "        dct[\"transactions\"]=tuple([Transaction.json_loads(t) for t in dct[\"transactions\"]])\n",
        "        return cls(**dct)\n",
        "        \n",
        "    def hash(self) -> str: \n",
        "        block_bytes=self.json_dumps().encode()\n",
        "        return hashlib.sha256(block_bytes).hexdigest()"
      ],
      "execution_count": 0,
      "outputs": []
    },
    {
      "cell_type": "code",
      "metadata": {
        "id": "u3JaCATEd5gZ",
        "colab_type": "code",
        "colab": {}
      },
      "source": [
        "from time import time"
      ],
      "execution_count": 0,
      "outputs": []
    },
    {
      "cell_type": "code",
      "metadata": {
        "id": "4kRRUFn9d_j0",
        "colab_type": "code",
        "colab": {}
      },
      "source": [
        "class TimestampServer:\n",
        "    def __init__(self):\n",
        "        key=RSA.generate(1024)\n",
        "        self.public_key=key.publickey()\n",
        "        self.signer=PKCS1_v1_5.new(key)\n",
        "        \n",
        "        genesis=Block(time(), (), \"0\")\n",
        "        self.block_chain=[genesis]\n",
        "        \n",
        "    def generate_block(self, transactions: Sequence[Transaction]):\n",
        "        # generate block\n",
        "        block=Block(time(), tuple(transactions), self.block_chain[-1].hash())\n",
        "        \n",
        "        # sign the block\n",
        "        dct=dc.asdict(block)\n",
        "        del dct[\"sign\"]\n",
        "        block.sign=self.signer.sign(SHA.new(json.dumps(dct).encode())).hex()\n",
        "        \n",
        "        # publish the block\n",
        "        self.block_chain.append(block)"
      ],
      "execution_count": 0,
      "outputs": []
    },
    {
      "cell_type": "code",
      "metadata": {
        "id": "joIHaopyeCW9",
        "colab_type": "code",
        "colab": {}
      },
      "source": [
        "def verify_block(previous_block, block, timestamp_server_publickey) -> bool:\n",
        "    is_correct_hash = previous_block.hash() ==  block.previous_hash\n",
        "    is_correct_transactions = all(map(verify_transaction, block.transactions))\n",
        "    \n",
        "    dct=dc.asdict(block)\n",
        "    del dct[\"sign\"]\n",
        "    h=SHA.new(json.dumps(dct).encode())\n",
        "    verifier=PKCS1_v1_5.new(timestamp_server_publickey)\n",
        "    is_correct_sign=verifier.verify(h, binascii.unhexlify(block.sign))\n",
        "    return is_correct_hash and is_correct_transactions and is_correct_sign"
      ],
      "execution_count": 0,
      "outputs": []
    },
    {
      "cell_type": "code",
      "metadata": {
        "id": "VW3LwyszeEpO",
        "colab_type": "code",
        "colab": {}
      },
      "source": [
        "def verify_blockchain(chain, timestamp_server_publickey):\n",
        "    for i in range(len(chain)-1):\n",
        "        if not verify_block(chain[-i-2],chain[-i-1],timestamp_server_publickey):\n",
        "            return False\n",
        "    return True"
      ],
      "execution_count": 0,
      "outputs": []
    },
    {
      "cell_type": "code",
      "metadata": {
        "id": "7wLPfYvtebsJ",
        "colab_type": "code",
        "colab": {}
      },
      "source": [
        "timestamp_server=TimestampServer()"
      ],
      "execution_count": 0,
      "outputs": []
    },
    {
      "cell_type": "code",
      "metadata": {
        "id": "MomQ82oEecKT",
        "colab_type": "code",
        "colab": {}
      },
      "source": [
        "transactions=[]\n",
        "transactions.append(alice.send(bob.address, 5))\n",
        "transactions.append(bob.send(alice.address, 7))"
      ],
      "execution_count": 0,
      "outputs": []
    },
    {
      "cell_type": "code",
      "metadata": {
        "id": "CPlFiIrfefm0",
        "colab_type": "code",
        "colab": {}
      },
      "source": [
        "timestamp_server.generate_block(transactions)"
      ],
      "execution_count": 0,
      "outputs": []
    },
    {
      "cell_type": "code",
      "metadata": {
        "id": "u-ZttBFRehxM",
        "colab_type": "code",
        "colab": {
          "base_uri": "https://localhost:8080/",
          "height": 34
        },
        "outputId": "71cb9124-ba3a-4ade-dbe9-c5a6958d2652"
      },
      "source": [
        "verify_blockchain(timestamp_server.block_chain, timestamp_server.public_key)"
      ],
      "execution_count": 35,
      "outputs": [
        {
          "output_type": "execute_result",
          "data": {
            "text/plain": [
              "True"
            ]
          },
          "metadata": {
            "tags": []
          },
          "execution_count": 35
        }
      ]
    },
    {
      "cell_type": "code",
      "metadata": {
        "id": "6V9j_7S4ekGB",
        "colab_type": "code",
        "colab": {}
      },
      "source": [
        "@dataclass\n",
        "class Block:\n",
        "    time: float\n",
        "    transactions: Tuple[Transaction]\n",
        "    previous_hash: str\n",
        "    nonce: int = None\n",
        "        \n",
        "    def json_dumps(self) -> str:\n",
        "        dct=dc.asdict(self)\n",
        "        dct[\"transactions\"]=[t.json_dumps() for t in self.transactions]\n",
        "        return json.dumps(dct)\n",
        "    \n",
        "    @classmethod\n",
        "    def json_loads(cls, string) -> str:\n",
        "        dct=json.loads(string)\n",
        "        dct[\"transactions\"]=tuple([Transaction.json_loads(t) for t in dct[\"transactions\"]])\n",
        "        return cls(**dct)\n",
        "        \n",
        "    def hash(self): \n",
        "        block_bytes=self.json_dumps().encode()\n",
        "        return hashlib.sha256(block_bytes).hexdigest()"
      ],
      "execution_count": 0,
      "outputs": []
    },
    {
      "cell_type": "code",
      "metadata": {
        "id": "aib8FXFUeoUy",
        "colab_type": "code",
        "colab": {}
      },
      "source": [
        "difficulty=3\n",
        "def valid_proof(block):\n",
        "    return block.hash()[:difficulty] == \"0\" * difficulty"
      ],
      "execution_count": 0,
      "outputs": []
    },
    {
      "cell_type": "code",
      "metadata": {
        "id": "im1Q8wifeusx",
        "colab_type": "code",
        "colab": {}
      },
      "source": [
        "def mine(block):\n",
        "    nonce=0\n",
        "    block.nonce=nonce\n",
        "    while not valid_proof(block):\n",
        "        nonce += 1\n",
        "        block.nonce=nonce\n",
        "    return block"
      ],
      "execution_count": 0,
      "outputs": []
    },
    {
      "cell_type": "code",
      "metadata": {
        "id": "O9tASrx3exFw",
        "colab_type": "code",
        "colab": {}
      },
      "source": [
        "def verify_block(previous_block, block) -> bool:\n",
        "    is_correct_hash = previous_block.hash() ==  block.previous_hash\n",
        "    is_correct_transactions = all(map(verify_transaction, block.transactions))\n",
        "    is_correct_proof = valid_proof(block)\n",
        "    return is_correct_hash and is_correct_transactions and is_correct_proof"
      ],
      "execution_count": 0,
      "outputs": []
    },
    {
      "cell_type": "code",
      "metadata": {
        "id": "7azwQx1LroNy",
        "colab_type": "code",
        "colab": {}
      },
      "source": [
        "class BlockChain(list):\n",
        "    def json_dumps(self) -> str:\n",
        "        return json.dumps([block.json_dumps() for block in self])\n",
        "    @classmethod\n",
        "    def json_loads(cls, string) -> str:\n",
        "        return cls([Block.json_loads(s) for s in json.loads(string)])"
      ],
      "execution_count": 0,
      "outputs": []
    },
    {
      "cell_type": "code",
      "metadata": {
        "id": "fupvwMAirtGM",
        "colab_type": "code",
        "colab": {}
      },
      "source": [
        "genesis=Block(time(), (), \"0\")\n",
        "block_chain=BlockChain([genesis])\n",
        "\n",
        "# 取引\n",
        "transactions=[]\n",
        "transactions.append(alice.send(bob.address, 5))\n",
        "transactions.append(bob.send(alice.address, 5))"
      ],
      "execution_count": 0,
      "outputs": []
    },
    {
      "cell_type": "code",
      "metadata": {
        "id": "1C7mwAVEr1TZ",
        "colab_type": "code",
        "colab": {}
      },
      "source": [
        "previous_hash=block_chain[-1].hash()\n",
        "block=mine(Block(time(), tuple(transactions), previous_hash))\n"
      ],
      "execution_count": 0,
      "outputs": []
    },
    {
      "cell_type": "code",
      "metadata": {
        "id": "G8Rm5auVr3QV",
        "colab_type": "code",
        "colab": {
          "base_uri": "https://localhost:8080/",
          "height": 34
        },
        "outputId": "7dfbc808-a2fe-4c66-c0d9-fbec1064b693"
      },
      "source": [
        "block.nonce"
      ],
      "execution_count": 49,
      "outputs": [
        {
          "output_type": "execute_result",
          "data": {
            "text/plain": [
              "2236"
            ]
          },
          "metadata": {
            "tags": []
          },
          "execution_count": 49
        }
      ]
    },
    {
      "cell_type": "code",
      "metadata": {
        "id": "rUecggmPr8E8",
        "colab_type": "code",
        "colab": {
          "base_uri": "https://localhost:8080/",
          "height": 34
        },
        "outputId": "42939a4f-d7da-4df3-db0c-89208eb3af2b"
      },
      "source": [
        "verify_block(block_chain[-1], block)"
      ],
      "execution_count": 50,
      "outputs": [
        {
          "output_type": "execute_result",
          "data": {
            "text/plain": [
              "True"
            ]
          },
          "metadata": {
            "tags": []
          },
          "execution_count": 50
        }
      ]
    },
    {
      "cell_type": "code",
      "metadata": {
        "id": "oX8yXBJLr-yK",
        "colab_type": "code",
        "colab": {}
      },
      "source": [
        "from uuid import uuid4\n",
        "from time import sleep\n",
        "from copy import deepcopy\n",
        "import multiprocessing as mp\n",
        "import random\n",
        "from itertools import count"
      ],
      "execution_count": 0,
      "outputs": []
    },
    {
      "cell_type": "code",
      "metadata": {
        "id": "zRdzJ0UmsCFD",
        "colab_type": "code",
        "colab": {}
      },
      "source": [
        "difficulty=3\n",
        "class Node:\n",
        "    def __init__(self, network, genesis, uuid=None):\n",
        "        self.chain=BlockChain([genesis])\n",
        "        self.uuid=uuid or str(uuid4())\n",
        "        self.network=network\n",
        "        \n",
        "    def work(self, verbose=False):\n",
        "        while True:\n",
        "            if not self.mine():\n",
        "                sleep(0.1) # wait due to no transactions\n",
        "            else:\n",
        "                if verbose: print(self.uuid, \"Mined a block\")\n",
        "            if self.add_block():\n",
        "                if verbose: print(self.uuid, \"Added one block\")\n",
        "            self.network.post_chain(self.chain, self.uuid) # publish my blockchain\n",
        "            if self.resolve_conflicts():\n",
        "                if verbose: print(self.uuid, \"Change chain\")\n",
        "    \n",
        "    def mine(self):\n",
        "        transactions=self.network.get_transactions(self.uuid)\n",
        "        if len(transactions)==0:\n",
        "            return False # cannot mine due to no transactions\n",
        "        previous_hash=self.chain[-1].hash()\n",
        "        block=Block(time(), tuple(transactions), previous_hash)\n",
        "        \n",
        "        for i, n in enumerate(self.random_generator()):\n",
        "            block.nonce=n\n",
        "            if self.verify_proof(block):\n",
        "                break\n",
        "                \n",
        "            if i % 100 == 0 and self.add_block(): # someone mined a block\n",
        "                return True\n",
        "            if i % 100 == 0 and self.resolve_conflicts(): # someone mined a block\n",
        "                return True\n",
        "                \n",
        "        self.network.broadcast_block(block, self.uuid)\n",
        "        return True # successfully mined\n",
        "    \n",
        "    @staticmethod\n",
        "    def random_generator(step=None):\n",
        "        step = step or random.randint(1e4, 1e5)\n",
        "        for c in count():\n",
        "            for i in random.sample(range(c*step, (c+1)*step), step):\n",
        "                yield i\n",
        "        \n",
        "    def add_block(self):\n",
        "        for block in self.network.get_blocks(self.uuid):\n",
        "            if self.verify_block(block):\n",
        "                self.chain.append(block)\n",
        "                if self.verify_chain(self.chain):\n",
        "                    return True \n",
        "                else:\n",
        "                    self.chain.pop(-1)\n",
        "        return False # no block is added\n",
        "    \n",
        "    def resolve_conflicts(self):\n",
        "        \"\"\"Longest valid chain is authoritative\"\"\"\n",
        "        authoritative_chain=self.chain\n",
        "        for chain in self.network.get_neighbour_chains(self.uuid):\n",
        "            if not self.verify_chain(chain):\n",
        "                # node is incorrect\n",
        "                continue\n",
        "            if len(chain)>len(authoritative_chain):\n",
        "                # Longest valid chain is authoritative\n",
        "                authoritative_chain=deepcopy(chain)\n",
        "        self.chain=authoritative_chain\n",
        "        return self.chain is not authoritative_chain\n",
        "        \n",
        "    @staticmethod\n",
        "    def verify_transaction(transaction):\n",
        "        if transaction.sign is None:\n",
        "            return False\n",
        "        h=SHA.new(transaction.str_data().encode())\n",
        "        verifier=PKCS1_v1_5.new(encode_key(transaction.sender_address))\n",
        "        return verifier.verify(h, binascii.unhexlify(transaction.sign))\n",
        "    \n",
        "    @staticmethod\n",
        "    def verify_proof(block):\n",
        "        return block.hash()[:difficulty] == \"0\" * difficulty\n",
        "    \n",
        "    def verify_block(self, block) -> bool:\n",
        "        is_correct_transactions = all(map(self.verify_transaction, block.transactions))\n",
        "        is_correct_proof = self.verify_proof(block)\n",
        "        return is_correct_transactions and is_correct_proof\n",
        "    \n",
        "    def verify_chain(self, chain):\n",
        "        for i in range(len(chain)-1, 0, -1):\n",
        "            if not self.verify_block(chain[i]):\n",
        "                return False\n",
        "            if chain[i-1].hash() != chain[i].previous_hash:\n",
        "                return False\n",
        "        return True"
      ],
      "execution_count": 0,
      "outputs": []
    },
    {
      "cell_type": "code",
      "metadata": {
        "id": "SK2wp6TjsGON",
        "colab_type": "code",
        "colab": {}
      },
      "source": [
        "class Wallet:\n",
        "    def __init__(self, network, nodes=None):\n",
        "        key=RSA.generate(1024)\n",
        "        self.private_key = decode_key(key)\n",
        "        self.address = decode_key(key.publickey())\n",
        "        self.network=network\n",
        "        self.nodes=nodes or []\n",
        "    \n",
        "    def sign_transaction(self, transaction):\n",
        "        signer=PKCS1_v1_5.new(encode_key(self.private_key))\n",
        "        h=SHA.new(transaction.str_data().encode())\n",
        "        return dc.replace(transaction, sign=signer.sign(h).hex())\n",
        "    \n",
        "    def send(self, receiver_address, value):\n",
        "        transaction=Transaction(self.address, receiver_address, value)\n",
        "        self.broadcast(self.sign_transaction(transaction))\n",
        "    \n",
        "    def broadcast(self, transaction):\n",
        "        for uuid in self.nodes:\n",
        "            self.network.post_transaction(transaction, uuid)"
      ],
      "execution_count": 0,
      "outputs": []
    },
    {
      "cell_type": "code",
      "metadata": {
        "id": "zletxKcWsJBY",
        "colab_type": "code",
        "colab": {}
      },
      "source": [
        "from typing import List"
      ],
      "execution_count": 0,
      "outputs": []
    },
    {
      "cell_type": "code",
      "metadata": {
        "id": "VWa5vFOfsLOO",
        "colab_type": "code",
        "colab": {}
      },
      "source": [
        "class Network:\n",
        "    def __init__(self, neighbours=()):\n",
        "        self.manager=mp.Manager()\n",
        "        self.chains=self.manager.dict()\n",
        "        self.blocks=self.manager.dict()\n",
        "        self.transactions=self.manager.dict()\n",
        "        self.neighbours=dict(neighbours)\n",
        "        \n",
        "    def post_chain(self, chain, uuid):\n",
        "        self.chains[uuid]=chain.json_dumps()\n",
        "    \n",
        "    def get_chain(self, uuid) -> BlockChain:\n",
        "        if uuid not in self.chains:\n",
        "            return []\n",
        "        return BlockChain.json_loads(self.chains[uuid])\n",
        "    \n",
        "    def get_neighbour_chains(self, uuid) -> List[BlockChain]:\n",
        "        return [self.get_chain(neigh) for neigh in self.neighbours[uuid] if neigh != uuid]\n",
        "    \n",
        "    def post_block(self, block, uuid):\n",
        "        if uuid not in self.blocks:\n",
        "            self.blocks[uuid]=self.manager.list([block.json_dumps()])\n",
        "        else:\n",
        "            self.blocks[uuid].append(block.json_dumps())\n",
        "            \n",
        "    def broadcast_block(self, block, uuid):\n",
        "        for receiver in self.neighbours[uuid]:\n",
        "            self.post_block(block, receiver)\n",
        "            \n",
        "    def get_blocks(self, uuid) -> List[Block]:\n",
        "        if uuid not in self.blocks:\n",
        "            return []\n",
        "        res=[Block.json_loads(s) for s in self.blocks[uuid]]\n",
        "        self.blocks[uuid][:]=[]\n",
        "        return res\n",
        "    \n",
        "    def post_transaction(self, transaction, uuid):\n",
        "        if uuid not in self.transactions:\n",
        "            self.transactions[uuid]=self.manager.list([transaction.json_dumps()])\n",
        "        else:\n",
        "            self.transactions[uuid].append(transaction.json_dumps())\n",
        "            \n",
        "    def get_transactions(self, uuid) -> Tuple[Transaction]:\n",
        "        if uuid not in self.transactions:\n",
        "            return []\n",
        "        res=[Transaction.json_loads(s) for s in self.transactions[uuid]]\n",
        "        self.transactions[uuid][:]=[]\n",
        "        return res\n",
        "    \n",
        "    def shutdown(self):\n",
        "        self.manager.shutdown()"
      ],
      "execution_count": 0,
      "outputs": []
    },
    {
      "cell_type": "markdown",
      "metadata": {
        "id": "b2BElA9dsSAq",
        "colab_type": "text"
      },
      "source": [
        "ノード1つの場合のテスト"
      ]
    },
    {
      "cell_type": "code",
      "metadata": {
        "id": "bw2dj5f4sN1B",
        "colab_type": "code",
        "colab": {}
      },
      "source": [
        "genesis=Block(time(), (), \"0\")\n",
        "uuid=\"test\"\n",
        "network=Network({uuid:[uuid]})\n",
        "node=Node(network, genesis, uuid)"
      ],
      "execution_count": 0,
      "outputs": []
    },
    {
      "cell_type": "code",
      "metadata": {
        "id": "dBeBrb6IsYLY",
        "colab_type": "code",
        "colab": {}
      },
      "source": [
        "alice=Wallet(network, [uuid])\n",
        "bob=Wallet(network, [uuid])"
      ],
      "execution_count": 0,
      "outputs": []
    },
    {
      "cell_type": "code",
      "metadata": {
        "id": "bl-KTadnsbil",
        "colab_type": "code",
        "colab": {}
      },
      "source": [
        "alice.send(bob.address, 5)"
      ],
      "execution_count": 0,
      "outputs": []
    },
    {
      "cell_type": "markdown",
      "metadata": {
        "id": "0bP30f37sRUK",
        "colab_type": "text"
      },
      "source": [
        ""
      ]
    },
    {
      "cell_type": "code",
      "metadata": {
        "id": "VD8Em7Y3sghS",
        "colab_type": "code",
        "colab": {}
      },
      "source": [
        "network.shutdown()"
      ],
      "execution_count": 0,
      "outputs": []
    },
    {
      "cell_type": "markdown",
      "metadata": {
        "id": "Yq_1jTEqskgk",
        "colab_type": "text"
      },
      "source": [
        "デモ: 分散blockchainのデモ"
      ]
    },
    {
      "cell_type": "markdown",
      "metadata": {
        "id": "hvEdH2oQsoIS",
        "colab_type": "text"
      },
      "source": [
        "multiprocessingでnetworkのデモを行う"
      ]
    },
    {
      "cell_type": "code",
      "metadata": {
        "id": "W2hHGfd3sg8H",
        "colab_type": "code",
        "colab": {}
      },
      "source": [
        "genesis=Block(time(), (), \"0\")\n",
        "network=Network()"
      ],
      "execution_count": 0,
      "outputs": []
    },
    {
      "cell_type": "markdown",
      "metadata": {
        "id": "9U3sFwD3stHh",
        "colab_type": "text"
      },
      "source": [
        "node生成\n",
        "適当にnum_nodesを変更して遊ぶと良い"
      ]
    },
    {
      "cell_type": "code",
      "metadata": {
        "id": "kRahbz2Psqgi",
        "colab_type": "code",
        "colab": {}
      },
      "source": [
        "num_nodes=7\n",
        "nodes=[str(uuid4()) for _ in range(num_nodes)]"
      ],
      "execution_count": 0,
      "outputs": []
    },
    {
      "cell_type": "markdown",
      "metadata": {
        "id": "PoY5BtNxs0ZA",
        "colab_type": "text"
      },
      "source": [
        "nodeのnetworkの状態を定義する\n",
        "とりあえずは全結合にする\n",
        "つまり全てのNode同士，直接やりとりできる"
      ]
    },
    {
      "cell_type": "code",
      "metadata": {
        "id": "fDw-0cSKswW4",
        "colab_type": "code",
        "colab": {}
      },
      "source": [
        "for uuid in nodes:\n",
        "    network.neighbours[uuid]=nodes"
      ],
      "execution_count": 0,
      "outputs": []
    },
    {
      "cell_type": "markdown",
      "metadata": {
        "id": "QXQRoWYKs5n4",
        "colab_type": "text"
      },
      "source": [
        "multiprocess workerを作って起動する"
      ]
    },
    {
      "cell_type": "code",
      "metadata": {
        "id": "T28GCVtis3DC",
        "colab_type": "code",
        "colab": {}
      },
      "source": [
        "def node_work(uuid):\n",
        "    node=Node(network, genesis, uuid)\n",
        "    node.work()"
      ],
      "execution_count": 0,
      "outputs": []
    },
    {
      "cell_type": "code",
      "metadata": {
        "id": "WBuUzQVes7lP",
        "colab_type": "code",
        "colab": {}
      },
      "source": [
        "workers=[]\n",
        "for uuid in nodes:\n",
        "    worker=mp.Process(target=node_work, args=(uuid,))\n",
        "    workers.append(worker)\n",
        "    worker.start()"
      ],
      "execution_count": 0,
      "outputs": []
    },
    {
      "cell_type": "markdown",
      "metadata": {
        "id": "97_VI5UktCZe",
        "colab_type": "text"
      },
      "source": [
        "peopleを生成する\n",
        "これも適当に人数を変えて遊ぶと良い"
      ]
    },
    {
      "cell_type": "code",
      "metadata": {
        "id": "8ZL7Tvh9s9sE",
        "colab_type": "code",
        "colab": {}
      },
      "source": [
        "num_people=5\n",
        "people=[Wallet(network, random.sample(nodes, random.randint(1, len(nodes)))) for _ in range(num_people)]"
      ],
      "execution_count": 0,
      "outputs": []
    },
    {
      "cell_type": "markdown",
      "metadata": {
        "id": "xk_1clxNtIMk",
        "colab_type": "text"
      },
      "source": [
        "blockchain の表示"
      ]
    },
    {
      "cell_type": "code",
      "metadata": {
        "id": "1xAFjVXQtFJj",
        "colab_type": "code",
        "colab": {
          "base_uri": "https://localhost:8080/",
          "height": 136
        },
        "outputId": "435b23bd-ce7f-4be5-d1f5-eb57c9a85838"
      },
      "source": [
        "from IPython.display import clear_output\n",
        "def draw_chains(network):\n",
        "    while True:\n",
        "        line=\"\"\n",
        "        for k, v in network.chains.items():\n",
        "            line += f\"(Node: {k[:4]}) \"\n",
        "            chain=BlockChain.json_loads(v)\n",
        "            h=list(map(lambda x: x.hash()[:5], chain))\n",
        "            line += \"--\".join(map(lambda x: f\"[{x}]\", h))\n",
        "            line += \"\\n\"\n",
        "        print(line.rstrip())\n",
        "        clear_output(True)\n",
        "        sleep(0.1)\n",
        "\n",
        "worker=mp.Process(target=draw_chains, args=(network,))\n",
        "worker.start()"
      ],
      "execution_count": 83,
      "outputs": [
        {
          "output_type": "stream",
          "text": [
            "(Node: e3e7) [502b6]--[0004a]--[000cf]--[000cc]--[00076]--[0006c]--[000af]--[000ca]--[000aa]\n",
            "(Node: 6d2b) [502b6]--[0004a]--[000cf]--[000cc]--[00076]--[0006c]--[000af]--[000ca]--[000aa]\n",
            "(Node: 2bad) [502b6]--[0004a]--[000cf]--[000cc]--[00076]--[0006c]--[000af]--[000ca]--[000aa]\n",
            "(Node: ec26) [502b6]--[0004a]--[000cf]--[000cc]--[00076]--[0006c]--[000af]--[000ca]--[000aa]\n",
            "(Node: 27c2) [502b6]--[0004a]--[000cf]--[000cc]--[00076]--[0006c]--[000af]--[000ca]--[000aa]\n",
            "(Node: f7a7) [502b6]--[0004a]--[000cf]--[000cc]--[00076]--[0006c]--[000af]--[000ca]--[000aa]\n",
            "(Node: 1edd) [502b6]--[0004a]--[000cf]--[000cc]--[00076]--[0006c]--[000af]--[000ca]--[000aa]\n"
          ],
          "name": "stdout"
        }
      ]
    },
    {
      "cell_type": "markdown",
      "metadata": {
        "id": "cwLb0AzRtQxm",
        "colab_type": "text"
      },
      "source": [
        "取引をして遊ぶ\n",
        "ランダムに取引が行われるコードを書いてみる\n",
        "上の表示が変化する!"
      ]
    },
    {
      "cell_type": "code",
      "metadata": {
        "id": "Z7E7H3DatLHV",
        "colab_type": "code",
        "colab": {}
      },
      "source": [
        "def generate_transactions():\n",
        "    for _ in range(random.randint(1,10)):\n",
        "        sender, receiver= random.sample(people, 2)\n",
        "        sender.send(receiver.address, random.randint(1, 100))"
      ],
      "execution_count": 0,
      "outputs": []
    },
    {
      "cell_type": "code",
      "metadata": {
        "id": "vZNi_FY7tTX-",
        "colab_type": "code",
        "colab": {}
      },
      "source": [
        "generate_transactions()"
      ],
      "execution_count": 0,
      "outputs": []
    },
    {
      "cell_type": "markdown",
      "metadata": {
        "id": "C5Tlp3BSt9f8",
        "colab_type": "text"
      },
      "source": [
        "networkをちょと変えて遊んで見る\n",
        "ちょっと断線させる"
      ]
    },
    {
      "cell_type": "code",
      "metadata": {
        "id": "BO3sOvzNtV8B",
        "colab_type": "code",
        "colab": {}
      },
      "source": [
        "for uuid in nodes:\n",
        "    network.neighbours[uuid]=random.sample(nodes, 3)"
      ],
      "execution_count": 0,
      "outputs": []
    },
    {
      "cell_type": "code",
      "metadata": {
        "id": "-1p8vHrJuAHH",
        "colab_type": "code",
        "colab": {}
      },
      "source": [
        "generate_transactions()"
      ],
      "execution_count": 0,
      "outputs": []
    },
    {
      "cell_type": "markdown",
      "metadata": {
        "id": "tFYYJiTWuQoN",
        "colab_type": "text"
      },
      "source": [
        "\n",
        "片付け"
      ]
    },
    {
      "cell_type": "code",
      "metadata": {
        "id": "IeTI52TeuIcV",
        "colab_type": "code",
        "colab": {}
      },
      "source": [
        "worker.terminate()\n",
        "worker.kill()\n",
        "for worker in workers:\n",
        "    worker.terminate()\n",
        "    worker.kill()\n",
        "network.shutdown()"
      ],
      "execution_count": 0,
      "outputs": []
    },
    {
      "cell_type": "code",
      "metadata": {
        "id": "KzhSTACXuWMt",
        "colab_type": "code",
        "colab": {}
      },
      "source": [
        ""
      ],
      "execution_count": 0,
      "outputs": []
    }
  ]
}